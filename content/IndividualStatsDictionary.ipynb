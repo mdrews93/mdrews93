{
 "cells": [
  {
   "cell_type": "markdown",
   "metadata": {},
   "source": [
    "Welcome to my first post! \n",
    "I'll primarily use this site to host and share little projects. It's mainly to help myself keep these things organized and accessible, but if anyone happens upon these and finds them helpful, that'd be awesome!\n",
    "\n",
    "This notebook explores the steps required to download volleyball stats from a URL and convert it into a python dictionary.\n",
    "\n",
    "NOTE: Originally I printed out the HTML code at a few steps of the process. However, a quirky bug occurred when uploading the Jupyter Notebook with Pelican: the HTML was rendered. I didn't want a table of stats to be shown, I just wanted to show how the raw HTML code was structured. For now, I've commented out those print statements.\n"
   ]
  },
  {
   "cell_type": "code",
   "execution_count": 2,
   "metadata": {
    "collapsed": true
   },
   "outputs": [],
   "source": [
    "from urllib.request import urlopen\n",
    "\n",
    "url = \"http://www.illinoistechathletics.com/sports/mvball/2016-17/bios/drews_michael_ank9?view=gamelog\"\n",
    "\n",
    "# urlopen returns an HTTPResponse object and calling read() on it returns the body\n",
    "webpage = urlopen(url).read()\n",
    "\n",
    "# print(webpage)\n"
   ]
  },
  {
   "cell_type": "markdown",
   "metadata": {
    "collapsed": true
   },
   "source": [
    "Success! .....kind of. The HTTP request worked properly, but that returns an object that contains all of the HTML source code from the website. I only want the stats. \n",
    "\n",
    "Looking into parsing through HTML, I came across the BeautifulSoup module."
   ]
  },
  {
   "cell_type": "code",
   "execution_count": 3,
   "metadata": {
    "collapsed": true,
    "scrolled": true
   },
   "outputs": [],
   "source": [
    "from bs4 import BeautifulSoup as bs\n",
    "\n",
    "soup = bs(webpage, \"html.parser\")\n",
    "\n",
    "# print(soup.prettify())"
   ]
  },
  {
   "cell_type": "markdown",
   "metadata": {},
   "source": [
    "While still a bit overwhelming, the stats are within a < table > tag and the BeautifulSoup object allows us to easily find all of the tables in the source code. Let's see how many tables there are:"
   ]
  },
  {
   "cell_type": "code",
   "execution_count": 4,
   "metadata": {},
   "outputs": [
    {
     "name": "stdout",
     "output_type": "stream",
     "text": [
      "5\n"
     ]
    }
   ],
   "source": [
    "print(len(soup.find_all(\"table\")))"
   ]
  },
  {
   "cell_type": "markdown",
   "metadata": {},
   "source": [
    "Since there are only 5 tables, the quickest way to determine which one has the Game Log stats is to inspect each one. It turns out the 4th table is the one we want."
   ]
  },
  {
   "cell_type": "code",
   "execution_count": 5,
   "metadata": {
    "collapsed": true
   },
   "outputs": [],
   "source": [
    "stat_table = soup.find_all(\"table\")[3]\n",
    "# print(stat_table)"
   ]
  },
  {
   "cell_type": "markdown",
   "metadata": {},
   "source": [
    "Now we just need to iterate through all of the tags in that table to retrieve the particular values.\n",
    "\n",
    "The results will be stored in a python dictionary. Since I know I'll eventually want a dictionary for each of the players on the team, my plan is to actually create a dictionary of dictionaries: each player name will be a key that can be used to retrieve the stats dictionary. The keys in the stats dictionary will be the name of each particular stat, so ultimately I'll have a data structure that allows me to specify both a player name and a particular stat. The values of the stats dictionary will be a list where each element is the stat from a particular game.\n",
    "\n",
    "Example: {'Michael Drews': {'k': [1, 2, 3], 'b': [0, 0, 2]}}\n",
    "\n",
    "The simplified dictionary shows that I played in three games. To get the number of kills I had in the first one, I'd use something like stats_dict['Michael Drews']['k'][0]"
   ]
  },
  {
   "cell_type": "code",
   "execution_count": 6,
   "metadata": {
    "collapsed": true
   },
   "outputs": [],
   "source": [
    "from collections import defaultdict\n",
    "\n",
    "stats_dict = defaultdict(lambda: defaultdict(lambda: []))\n",
    "stat_names = []\n",
    "\n",
    "# The stat names are within <th> tags, so first create a list of all of the\n",
    "# stat names. This will be needed to save the stats to the dictioanry. \n",
    "for th in stat_table.find_all(\"th\"):\n",
    "   stat_names.append(th.string)\n",
    "\n",
    "# Each row in the GameLog is encapsulated within <tr> tags.\n",
    "# Use a for loop to access each of the rows\n",
    "for tr in stat_table.find_all(\"tr\"):\n",
    "    # Each column in a row is represented using a <td> tag\n",
    "    # Iterate across all of the <td> tags\n",
    "    for i, elt in enumerate(tr.find_all(\"td\")):\n",
    "        stat = 0\n",
    "        # It gets kind of tricky here because the Score stat's <td> tag\n",
    "        # contains a child <a> tag, so this try block checks to see if\n",
    "        # the current tag has a child. If it does, it retrieves the score\n",
    "        # from the child. If it doesn't, an exception is thrown and code\n",
    "        # execution continues from the except block.\n",
    "        try:\n",
    "            for c in elt.children:\n",
    "                if c.string != '\\n':\n",
    "                    stat = c.string.strip('\\n')\n",
    "        except:\n",
    "            stat = elt.string.strip('\\n')\n",
    "        # Similarly, I want the stats saved as a float, but not all of the \n",
    "        # stats are numbers. The try block converts all of the numbers to\n",
    "        # float and if there's an exception from the conversion, the string\n",
    "        # is saved to the dictionary instead.\n",
    "        try:\n",
    "            stats_dict['Michael Drews'][stat_names[i]].append(float(stat))\n",
    "        except:\n",
    "            stats_dict['Michael Drews'][stat_names[i]].append(stat)"
   ]
  },
  {
   "cell_type": "code",
   "execution_count": 7,
   "metadata": {},
   "outputs": [
    {
     "name": "stdout",
     "output_type": "stream",
     "text": [
      "['Date', 'Opponent', 'Score', 'ms', 's', 'k', 'e', 'ta', 'pct', 'a', 'sa', 'se', 're', 'digs', 'bs', 'ba', 'be', 'tot', 'bhe', 'pts']\n"
     ]
    }
   ],
   "source": [
    "print(stat_names)"
   ]
  },
  {
   "cell_type": "code",
   "execution_count": 8,
   "metadata": {},
   "outputs": [
    {
     "data": {
      "text/plain": [
       "[7.0,\n",
       " 6.0,\n",
       " 4.0,\n",
       " 2.0,\n",
       " 5.0,\n",
       " 6.0,\n",
       " 5.0,\n",
       " 13.0,\n",
       " 3.0,\n",
       " 6.0,\n",
       " 5.0,\n",
       " 3.0,\n",
       " 8.0,\n",
       " 3.0,\n",
       " 1.0,\n",
       " 8.0,\n",
       " 9.0,\n",
       " 4.0,\n",
       " 9.0,\n",
       " 9.0,\n",
       " 6.0,\n",
       " 8.0,\n",
       " 4.0,\n",
       " 5.0,\n",
       " 6.0,\n",
       " 7.0,\n",
       " 10.0,\n",
       " '-',\n",
       " 5.0,\n",
       " 10.0]"
      ]
     },
     "execution_count": 8,
     "metadata": {},
     "output_type": "execute_result"
    }
   ],
   "source": [
    "stats_dict['Michael Drews']['k']"
   ]
  },
  {
   "cell_type": "code",
   "execution_count": 9,
   "metadata": {},
   "outputs": [
    {
     "data": {
      "text/plain": [
       "['W, 3-0',\n",
       " 'L, 3-0',\n",
       " 'L, 3-0',\n",
       " 'L, 3-0',\n",
       " 'L, 3-0',\n",
       " 'L, 3-0',\n",
       " 'W, 3-0',\n",
       " 'L, 3-2',\n",
       " 'L, 3-0',\n",
       " 'L, 3-1',\n",
       " 'L, 3-1',\n",
       " 'L, 3-1',\n",
       " 'L, 3-2',\n",
       " 'L, 3-0',\n",
       " 'W, 3-0',\n",
       " 'W, 3-2',\n",
       " 'L, 3-0',\n",
       " 'L, 3-0',\n",
       " 'L, 3-1',\n",
       " 'L, 3-0',\n",
       " 'W, 3-0',\n",
       " 'W, 3-0',\n",
       " 'L, 3-0',\n",
       " 'L, 3-0',\n",
       " 'L, 3-0',\n",
       " 'L, 3-0',\n",
       " 'L, 3-1',\n",
       " '     \\xa0     ',\n",
       " 'L, 3-0',\n",
       " 'L, 3-0']"
      ]
     },
     "execution_count": 9,
     "metadata": {},
     "output_type": "execute_result"
    }
   ],
   "source": [
    "stats_dict['Michael Drews']['Score']"
   ]
  },
  {
   "cell_type": "markdown",
   "metadata": {},
   "source": [
    "Woohoo! Now with the stats in a dictionary, additional stats can easily be computed."
   ]
  },
  {
   "cell_type": "code",
   "execution_count": 10,
   "metadata": {},
   "outputs": [
    {
     "name": "stdout",
     "output_type": "stream",
     "text": [
      "Total kills: 177.0\n",
      "Total games played: 29\n",
      "Average kills/games: 6.103\n"
     ]
    }
   ],
   "source": [
    "total_kills = 0\n",
    "total_games_played = 0\n",
    "for num_kills in stats_dict['Michael Drews']['k']:\n",
    "    if num_kills != '-':\n",
    "        total_kills += num_kills\n",
    "        total_games_played += 1\n",
    "print(\"Total kills:\", total_kills)\n",
    "print(\"Total games played:\", total_games_played)\n",
    "print(\"Average kills/games:\", '%.3f'%(total_kills/total_games_played))\n"
   ]
  },
  {
   "cell_type": "markdown",
   "metadata": {},
   "source": [
    "Next time, I'll work on creating the dictionary that stores the stats of every player on the team."
   ]
  }
 ],
 "metadata": {
  "kernelspec": {
   "display_name": "Python 3",
   "language": "python",
   "name": "python3"
  },
  "language_info": {
   "codemirror_mode": {
    "name": "ipython",
    "version": 3
   },
   "file_extension": ".py",
   "mimetype": "text/x-python",
   "name": "python",
   "nbconvert_exporter": "python",
   "pygments_lexer": "ipython3",
   "version": "3.5.2"
  }
 },
 "nbformat": 4,
 "nbformat_minor": 2
}
