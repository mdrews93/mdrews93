{
 "cells": [
  {
   "cell_type": "markdown",
   "metadata": {},
   "source": [
    "#### Background \n",
    "Earlier in the year, I exported my entire Facebook chat history and created an n-gram language model that I used to generate sentences. \n",
    "\n",
    "An n-gram is a particular way to represent sequences. In our case, these sequences will be sentences. An n-gram consists of a word followed by the next n-1 words in the sentence. For example:\n",
    "\n",
    "\n",
    "`\"The car drove down the street\"`\n",
    "\n",
    "\n",
    "Using 1-grams (aka unigrams) we end up with six unigrams: \n",
    "\n",
    "    ['The', 'car', 'drove', 'down', 'the', 'street']`\n",
    "Using 2-grams (aka bigrams) we end up with the following five bigrams:\n",
    "\n",
    "    [['The', 'car'],\n",
    "    ['car', 'drove'], \n",
    "    ['drove', 'down'], \n",
    "    ['down', 'the'],\n",
    "    ['the', 'street']]\n",
    "And using 3-grams (aka trigrams) results in the follwing four trigrams:\n",
    "   \n",
    "    [['The', 'car', 'drove'],\n",
    "    ['car', 'drove', 'down'],\n",
    "    ['drove', 'down', 'the'],\n",
    "    ['down', 'the', 'street']]\n",
    "The language model was based on the probability of each n-gram. Essentially, all of the n-grams from the chat history are created and then the probability of each one appearing is calculated. These probabilities are used to generate sentences so that when a sentence is generated, it roughly represents the personality of the person. \n",
    "\n",
    "I did this for myself, my fiance, and two cousins and we got a kick out of reading the generated sentences! We each had our own \"bot\" whose language model was based on each of our messages and interestingly we were even able to determine which bot prouced each sentence.\n",
    "\n",
    "Since then, we've switched over to using Google Allo for our chats. They recently added the ability to backup/restore chats so its time to create another language model using our chats from the last several months!\n",
    "#### Dataset Retrieval\n",
    "\n",
    "In short, it turned out that the file created by the app's backup feature didn't contain plain text. This is beneficial for a backup file, because it can dramatically decrease the file's size; however, I wanted the plain text so it was extremely disappointing. Previously I just assumed that messages were stored remotely but in researching the issue, I found out that the messages are actually stored locally on the phone in an SQLite database. Perfect!! \n",
    "\n",
    "Since my phone is rooted, I was able to access the file from `/data/data/com.google.android.apps.fireball/databases/fireball.db`\n",
    "    \n",
    "Then I downloaded Mozilla Firefox and the [SQLite Manager Add-On](https://addons.mozilla.org/en-US/firefox/addon/sqlite-manager/) so that I could explore the various tables.\n",
    "\n",
    "I ultimately wanted a dataset in CSV or JSON format where each row/record contains a message, the sender, and the text size. It turns out that the two tables that contained this information were named \"message\" and \"Fireball_users.\" Here's the SQL statement I used to extract just the fields that I wanted:"
   ]
  },
  {
   "cell_type": "markdown",
   "metadata": {},
   "source": [
    "<font face=\"Courier New\" size=\"2\">\n",
    "<font color = \"blue\">SELECT</font>&nbsp;<font color = \"maroon\">profile_display_name</font><font color = \"silver\">,</font>\n",
    "<br/>&nbsp;&nbsp;&nbsp;&nbsp;&nbsp;&nbsp;&nbsp;<font color = \"maroon\">text</font><font color = \"silver\">,</font>\n",
    "<br/>&nbsp;&nbsp;&nbsp;&nbsp;&nbsp;&nbsp;&nbsp;<font color = \"maroon\">text_size</font><font color = \"silver\">,</font>\n",
    "<br/>&nbsp;&nbsp;&nbsp;&nbsp;&nbsp;&nbsp;&nbsp;<font color = \"maroon\">received_timestamp</font><font color = \"silver\">,</font>\n",
    "<br/>&nbsp;&nbsp;&nbsp;&nbsp;&nbsp;&nbsp;&nbsp;<font color = \"maroon\">content_type</font>\n",
    "<br/><font color = \"blue\">FROM</font>&nbsp;&nbsp;&nbsp;<font color = \"maroon\">(</font><font color = \"blue\">SELECT</font>&nbsp;<font color = \"maroon\">sender_id</font><font color = \"silver\">,</font>\n",
    "<br/>&nbsp;&nbsp;&nbsp;&nbsp;&nbsp;&nbsp;&nbsp;&nbsp;&nbsp;&nbsp;&nbsp;&nbsp;&nbsp;&nbsp;&nbsp;<font color = \"maroon\">text</font><font color = \"silver\">,</font>\n",
    "<br/>&nbsp;&nbsp;&nbsp;&nbsp;&nbsp;&nbsp;&nbsp;&nbsp;&nbsp;&nbsp;&nbsp;&nbsp;&nbsp;&nbsp;&nbsp;<font color = \"maroon\">text_size</font><font color = \"silver\">,</font>\n",
    "<br/>&nbsp;&nbsp;&nbsp;&nbsp;&nbsp;&nbsp;&nbsp;&nbsp;&nbsp;&nbsp;&nbsp;&nbsp;&nbsp;&nbsp;&nbsp;<font color = \"maroon\">content_type</font><font color = \"silver\">,</font>\n",
    "<br/>&nbsp;&nbsp;&nbsp;&nbsp;&nbsp;&nbsp;&nbsp;&nbsp;&nbsp;&nbsp;&nbsp;&nbsp;&nbsp;&nbsp;&nbsp;<font color = \"maroon\">received_timestamp</font>\n",
    "<br/>&nbsp;&nbsp;&nbsp;&nbsp;&nbsp;&nbsp;&nbsp;&nbsp;<font color = \"blue\">FROM</font>&nbsp;&nbsp;&nbsp;<font color = \"maroon\">messages</font><font color = \"maroon\">)</font>&nbsp;<font color = \"maroon\">cmnts</font>\n",
    "<br/>&nbsp;&nbsp;&nbsp;&nbsp;&nbsp;&nbsp;&nbsp;<font color = \"blue\">JOIN</font>&nbsp;<font color = \"maroon\">(</font><font color = \"blue\">SELECT</font>&nbsp;<font color = \"maroon\">_id</font><font color = \"silver\">,</font>\n",
    "<br/>&nbsp;&nbsp;&nbsp;&nbsp;&nbsp;&nbsp;&nbsp;&nbsp;&nbsp;&nbsp;&nbsp;&nbsp;&nbsp;&nbsp;&nbsp;&nbsp;&nbsp;&nbsp;&nbsp;&nbsp;<font color = \"maroon\">profile_display_name</font>\n",
    "<br/>&nbsp;&nbsp;&nbsp;&nbsp;&nbsp;&nbsp;&nbsp;&nbsp;&nbsp;&nbsp;&nbsp;&nbsp;&nbsp;<font color = \"blue\">FROM</font>&nbsp;&nbsp;&nbsp;<font color = \"maroon\">fireball_users</font><font color = \"maroon\">)</font>&nbsp;<font color = \"maroon\">users</font>\n",
    "<br/>&nbsp;&nbsp;&nbsp;&nbsp;&nbsp;&nbsp;&nbsp;&nbsp;&nbsp;<font color = \"blue\">ON</font>&nbsp;<font color = \"maroon\">cmnts</font><font color = \"silver\">.</font><font color = \"maroon\">sender_id</font>&nbsp;<font color = \"silver\">=</font>&nbsp;<font color = \"maroon\">users</font><font color = \"silver\">.</font><font color = \"maroon\">_id</font>\n",
    "<br/><font color = \"blue\">ORDER</font>&nbsp;&nbsp;<font color = \"blue\">BY</font>&nbsp;<font color = \"maroon\">received_timestamp</font>&nbsp;<font color = \"blue\">DESC</font>&nbsp;\n",
    "</font>\n"
   ]
  },
  {
   "cell_type": "markdown",
   "metadata": {},
   "source": [
    "And then SQLite Manager allows exporting to CSV, which is just what I did! For the blog posts, however, I'll be using a dataset that contains our unique sender_ids rather than our real names."
   ]
  },
  {
   "cell_type": "code",
   "execution_count": 1,
   "metadata": {},
   "outputs": [
    {
     "name": "stdout",
     "output_type": "stream",
     "text": [
      "\"2\",\"Weird lol\",\"16\",\"1494194109844\",\"text/plain\"\n",
      "\n"
     ]
    }
   ],
   "source": [
    "count = 0\n",
    "with open(\"allo_messages_anon.csv\", encoding=\"utf-8\") as file:\n",
    "    for line in file:\n",
    "        if count < 1:\n",
    "            print(line)\n",
    "            count += 1"
   ]
  },
  {
   "cell_type": "markdown",
   "metadata": {},
   "source": [
    "Perfect! Next step is iterating through the dataset and creating the ngrams with their probabilities."
   ]
  }
 ],
 "metadata": {
  "kernelspec": {
   "display_name": "Python 3",
   "language": "python",
   "name": "python3"
  },
  "language_info": {
   "codemirror_mode": {
    "name": "ipython",
    "version": 3
   },
   "file_extension": ".py",
   "mimetype": "text/x-python",
   "name": "python",
   "nbconvert_exporter": "python",
   "pygments_lexer": "ipython3",
   "version": "3.5.2"
  }
 },
 "nbformat": 4,
 "nbformat_minor": 2
}
