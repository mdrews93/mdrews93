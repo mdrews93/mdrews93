{
 "cells": [
  {
   "cell_type": "markdown",
   "metadata": {},
   "source": [
    "See part one [here](./individual-volleyball-stats-part-one.html).\n",
    "\n",
    "Previously, the stats from a single player were downloaded and populated in a dictionary. The next step is retrieving the stats for each player on the team. I worked on this a couple months ago about halfway through our season and ended up going to each individual player's webpage, copying and pasting their stats into a file on my computer and manually adding commas. I did this for each player and then the python script that created the dictionary iterated through all 11 files to get the stats. \n",
    "# YUCK!!\n",
    "\n",
    "What a terrible approach. Granted, I was just trying to quickly put a plot together for my coaches, but I should've put a little bit more thought into the script. Once we played more games, if I wanted an updated plot, I would have to repeat the entire process of copying and pasting the stats. By retrieving the data directly through the site's HTML, no additional work is required if more games are added.\n",
    "\n",
    "Anyways, onto the python. I'll repeat the vital code from the previous post. In the future, I'll likely create modules with functions in them to keep the notebooks clean."
   ]
  },
  {
   "cell_type": "code",
   "execution_count": 26,
   "metadata": {
    "collapsed": true
   },
   "outputs": [],
   "source": [
    "from urllib.request import urlopen\n",
    "from bs4 import BeautifulSoup as bs\n",
    "from collections import defaultdict\n",
    "\n",
    "url = \"http://www.illinoistechathletics.com/sports/mvball/2016-17/bios/drews_michael_ank9?view=gamelog\"\n",
    "\n",
    "webpage = urlopen(url).read()\n",
    "soup = bs(webpage, \"html.parser\")\n",
    "\n",
    "stats_dict = defaultdict(lambda: defaultdict(lambda: []))\n",
    "stat_names = []\n",
    "\n",
    "stat_table = soup.find_all(\"table\")[3]\n",
    "\n",
    "# The stat names are within <th> tags, so first create a list of all of the\n",
    "# stat names. This will be needed to save the stats to the dictioanry. \n",
    "for th in stat_table.find_all(\"th\"):\n",
    "   stat_names.append(th.string)\n",
    "\n",
    "# Each row in the GameLog is encapsulated within <tr> tags.\n",
    "# Use a for loop to access each of the rows\n",
    "for tr in stat_table.find_all(\"tr\"):\n",
    "    # Each column in a row is represented using a <td> tag\n",
    "    # Iterate across all of the <td> tags\n",
    "    for i, elt in enumerate(tr.find_all(\"td\")):\n",
    "        stat = 0\n",
    "        # It gets kind of tricky here because the Score stat's <td> tag\n",
    "        # contains a child <a> tag, so this try block checks to see if\n",
    "        # the current tag has a child. If it does, it retrieves the score\n",
    "        # from the child. If it doesn't, an exception is thrown and code\n",
    "        # execution continues from the except block.\n",
    "        try:\n",
    "            for c in elt.children:\n",
    "                if c.string != '\\n':\n",
    "                    stat = c.string.strip('\\n')\n",
    "        except:\n",
    "            stat = elt.string.strip('\\n')\n",
    "        # Similarly, I want the stats saved as a float, but not all of the \n",
    "        # stats are numbers. The try block converts all of the numbers to\n",
    "        # float and if there's an exception from the conversion, the string\n",
    "        # is saved to the dictionary instead.\n",
    "        try:\n",
    "            stats_dict['Michael Drews'][stat_names[i]].append(float(stat))\n",
    "        except:\n",
    "            if 'vs' in stat:\n",
    "                stat = stat.split('vs.')[1].strip().rstrip('\\n')\n",
    "                stats_dict['Michael Drews'][stat_names[i]].append(stat)\n",
    "            elif ' at ' in stat:\n",
    "                stat = stat.split('at')[1].strip().rstrip('\\n')\n",
    "                stats_dict['Michael Drews'][stat_names[i]].append(stat)\n",
    "            else:\n",
    "                stat = stat.strip().rstrip('\\n')\n",
    "                stats_dict['Michael Drews'][stat_names[i]].append(stat)"
   ]
  },
  {
   "cell_type": "markdown",
   "metadata": {},
   "source": [
    "Unfortunately, a unique id is appended to the URL for each player, so it won't be as easy as replacing the name in the URL. First, I have to find out the unique player ID (pid) for each player. This likely requires downloading the Roster page, as that page contains the links to each player's stat page. "
   ]
  },
  {
   "cell_type": "code",
   "execution_count": 38,
   "metadata": {},
   "outputs": [
    {
     "name": "stdout",
     "output_type": "stream",
     "text": [
      "/sports/mvball/2016-17/bios/bostick_derek_mb6q\n",
      "/sports/mvball/2016-17/bios/bumpass_kyle_12ra\n",
      "/sports/mvball/2016-17/bios/allen_david_vrb7\n",
      "/sports/mvball/2016-17/bios/drews_michael_ank9\n",
      "/sports/mvball/2016-17/bios/kupiec_lukasz_6h2s\n",
      "/sports/mvball/2016-17/bios/hussain_irshad_bzfc\n",
      "/sports/mvball/2016-17/bios/huang_allan_7r9o\n",
      "/sports/mvball/2016-17/bios/bahrami_arvin_ba5l\n",
      "/sports/mvball/2016-17/bios/robeck_evan_ld87\n",
      "/sports/mvball/2016-17/bios/letkiewicz_filip_kmmv\n",
      "/sports/mvball/2016-17/bios/sassmannschausen_paulo_a272\n",
      "/sports/mvball/2016-17/bios/shepta_yuriy_sq0p\n",
      "/sports/mvball/2016-17/bios/woltman_andrew_6mbr\n"
     ]
    }
   ],
   "source": [
    "roster_url = \"http://www.illinoistechathletics.com/sports/mvball/2016-17/roster\"\n",
    "\n",
    "webpage = urlopen(roster_url).read()\n",
    "soup = bs(webpage, \"html.parser\")\n",
    "\n",
    "roster_table = soup.find_all(\"table\")[0]\n",
    "player_urls = []\n",
    "\n",
    "for entry in roster_table.tbody.find_all(\"tr\"):\n",
    "    player_url = entry.td.a['href']\n",
    "    print(player_url)\n",
    "    player_urls.append(player_url)\n",
    "    "
   ]
  },
  {
   "cell_type": "markdown",
   "metadata": {},
   "source": [
    "Awesome!\n",
    "\n",
    "Now I just need to take the base URL and append the player URL extensions to the base. player_urls is a list that contains all of the urls, so for each of the player_urls, I'll update them by appending the base URL."
   ]
  },
  {
   "cell_type": "code",
   "execution_count": 39,
   "metadata": {},
   "outputs": [
    {
     "name": "stdout",
     "output_type": "stream",
     "text": [
      "http://www.illinoistechathletics.com/sports/mvball/2016-17/bios/bostick_derek_mb6q\n"
     ]
    }
   ],
   "source": [
    "base_url = \"http://www.illinoistechathletics.com\"\n",
    "\n",
    "for index, p_url in enumerate(player_urls):\n",
    "    player_urls[index] = base_url + p_url\n",
    "    \n",
    "print(player_urls[0])\n",
    "\n"
   ]
  },
  {
   "cell_type": "markdown",
   "metadata": {},
   "source": [
    "Additionally, I want each player's first name to use as the key for the stats dictionary, so I'll iterate through the player_urls list once more to extract each player's first name. This works fine for Illinois Tech's roster because no two players share a first name; if any two did, then these would not suffice as dictionary keys. The first and last name would be an improved key, but I'll stick to using just the first name for now."
   ]
  },
  {
   "cell_type": "code",
   "execution_count": 40,
   "metadata": {},
   "outputs": [
    {
     "name": "stdout",
     "output_type": "stream",
     "text": [
      "['derek', 'kyle', 'david', 'michael', 'lukasz', 'irshad', 'allan', 'arvin', 'evan', 'filip', 'paulo', 'yuriy', 'andrew']\n"
     ]
    }
   ],
   "source": [
    "player_names = []\n",
    "\n",
    "for p_url in player_urls:\n",
    "    player_names.append(p_url.split(\"_\")[1])\n",
    "    \n",
    "print(player_names)"
   ]
  },
  {
   "cell_type": "markdown",
   "metadata": {},
   "source": [
    "Now we just need to repeat the process for a single player and change the URL and dictionary key each iteration. To clean this up a little bit, I'll create a new function that takes a URL, key, and dictionary as parameters and updates the dictionary with the downloaded stats."
   ]
  },
  {
   "cell_type": "code",
   "execution_count": 60,
   "metadata": {
    "collapsed": true
   },
   "outputs": [],
   "source": [
    "def singlePlayerStatDownload(name, url, dictionary):\n",
    "\n",
    "    webpage = urlopen(url).read()\n",
    "    soup = bs(webpage, \"html.parser\")\n",
    "\n",
    "    stat_names = []\n",
    "\n",
    "    stat_table = soup.find_all(\"table\")[3]\n",
    "\n",
    "    # The stat names are within <th> tags, so first create a list of all of the\n",
    "    # stat names. This will be needed to save the stats to the dictioanry. \n",
    "    for th in stat_table.find_all(\"th\"):\n",
    "       stat_names.append(th.string)\n",
    "\n",
    "    # Each row in the GameLog is encapsulated within <tr> tags.\n",
    "    # Use a for loop to access each of the rows\n",
    "    for tr in stat_table.find_all(\"tr\"):\n",
    "        # Each column in a row is represented using a <td> tag\n",
    "        # Iterate across all of the <td> tags\n",
    "        for i, elt in enumerate(tr.find_all(\"td\")):\n",
    "            stat = 0\n",
    "            # It gets kind of tricky here because the Score stat's <td> tag\n",
    "            # contains a child <a> tag, so this try block checks to see if\n",
    "            # the current tag has a child. If it does, it retrieves the score\n",
    "            # from the child. If it doesn't, an exception is thrown and code\n",
    "            # execution continues from the except block.\n",
    "            try:\n",
    "                for c in elt.children:\n",
    "                    if c.string != '\\n':\n",
    "                        stat = c.string.strip('\\n')\n",
    "            except:\n",
    "                stat = elt.string.strip('\\n')\n",
    "            # Similarly, I want the stats saved as a float, but not all of the \n",
    "            # stats are numbers. The try block converts all of the numbers to\n",
    "            # float and if there's an exception from the conversion, the string\n",
    "            # is saved to the dictionary instead.\n",
    "            try:\n",
    "                dictionary[name][stat_names[i]].append(float(stat))\n",
    "            except:\n",
    "                if 'vs' in stat:\n",
    "                    stat = stat.split('vs.')[1].strip().rstrip('\\n')\n",
    "                    dictionary[name][stat_names[i]].append(stat)\n",
    "                elif ' at ' in stat:\n",
    "                    stat = stat.split('at')[1].strip().rstrip('\\n')\n",
    "                    dictionary[name][stat_names[i]].append(stat)\n",
    "                elif 'W' in stat or 'L' in stat:\n",
    "                    stat = stat.strip().rstrip('\\n')\n",
    "                    dictionary[name][stat_names[i]].append(stat)\n",
    "                else:\n",
    "                    dictionary[name][stat_names[i]].append(0.0)"
   ]
  },
  {
   "cell_type": "code",
   "execution_count": 61,
   "metadata": {
    "collapsed": true
   },
   "outputs": [],
   "source": [
    "stats_dict = defaultdict(lambda: defaultdict(lambda: []))\n",
    "    \n",
    "for p_name, p_url in zip(player_names, player_urls):\n",
    "    singlePlayerStatDownload(p_name, p_url, stats_dict)"
   ]
  },
  {
   "cell_type": "code",
   "execution_count": 62,
   "metadata": {},
   "outputs": [
    {
     "name": "stdout",
     "output_type": "stream",
     "text": [
      "dict_keys(['michael', 'kyle', 'filip', 'irshad', 'david', 'arvin', 'derek', 'yuriy', 'andrew', 'evan', 'paulo', 'allan', 'lukasz'])\n"
     ]
    }
   ],
   "source": [
    "print(stats_dict.keys())"
   ]
  },
  {
   "cell_type": "code",
   "execution_count": 63,
   "metadata": {
    "scrolled": true
   },
   "outputs": [
    {
     "data": {
      "text/plain": [
       "[7.0,\n",
       " 6.0,\n",
       " 4.0,\n",
       " 2.0,\n",
       " 5.0,\n",
       " 6.0,\n",
       " 5.0,\n",
       " 13.0,\n",
       " 3.0,\n",
       " 6.0,\n",
       " 5.0,\n",
       " 3.0,\n",
       " 8.0,\n",
       " 3.0,\n",
       " 1.0,\n",
       " 8.0,\n",
       " 9.0,\n",
       " 4.0,\n",
       " 9.0,\n",
       " 9.0,\n",
       " 6.0,\n",
       " 8.0,\n",
       " 4.0,\n",
       " 5.0,\n",
       " 6.0,\n",
       " 7.0,\n",
       " 10.0,\n",
       " 0.0,\n",
       " 5.0,\n",
       " 10.0]"
      ]
     },
     "execution_count": 63,
     "metadata": {},
     "output_type": "execute_result"
    }
   ],
   "source": [
    "stats_dict['michael']['k']"
   ]
  },
  {
   "cell_type": "code",
   "execution_count": 64,
   "metadata": {},
   "outputs": [
    {
     "data": {
      "text/plain": [
       "175.0"
      ]
     },
     "execution_count": 64,
     "metadata": {},
     "output_type": "execute_result"
    }
   ],
   "source": [
    "sum(stats_dict['david']['k'])"
   ]
  },
  {
   "cell_type": "code",
   "execution_count": 65,
   "metadata": {},
   "outputs": [
    {
     "data": {
      "text/plain": [
       "177.0"
      ]
     },
     "execution_count": 65,
     "metadata": {},
     "output_type": "execute_result"
    }
   ],
   "source": [
    "sum(stats_dict['michael']['k'])"
   ]
  },
  {
   "cell_type": "markdown",
   "metadata": {},
   "source": [
    "Looks like I just barely beat David for total kills in the season =D Comparing those two sums to the \"Season Totals\" stats on the website, they both match!\n",
    "\n",
    "So now I have a python dictioanary that allows me to access any players stat for any game or compute entirely new stats. Sweet!!\n",
    "\n",
    "While the raw stats are awesome, next time I'll explore downloading Play-by-Play logs of each game. This data allows us to identify patterns and strategy (for example, who gets set the most when the score is at least 20-20?). \n",
    "\n",
    "Stay tuned!"
   ]
  }
 ],
 "metadata": {
  "kernelspec": {
   "display_name": "Python 3",
   "language": "python",
   "name": "python3"
  },
  "language_info": {
   "codemirror_mode": {
    "name": "ipython",
    "version": 3
   },
   "file_extension": ".py",
   "mimetype": "text/x-python",
   "name": "python",
   "nbconvert_exporter": "python",
   "pygments_lexer": "ipython3",
   "version": "3.5.2"
  }
 },
 "nbformat": 4,
 "nbformat_minor": 2
}
